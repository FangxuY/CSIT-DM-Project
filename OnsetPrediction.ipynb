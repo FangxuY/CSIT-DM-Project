{
 "cells": [
  {
   "cell_type": "code",
   "execution_count": 1,
   "metadata": {},
   "outputs": [],
   "source": [
    "import numpy as np\n",
    "import pandas as pd\n",
    "from sklearn.preprocessing import StandardScaler\n",
    "from sklearn.linear_model import LinearRegression, LassoCV, RidgeCV, ElasticNetCV\n",
    "from sklearn.ensemble import RandomForestRegressor\n",
    "from sklearn.neural_network import MLPRegressor\n",
    "from sklearn.metrics import mean_squared_error, r2_score\n",
    "np.random.seed(3)\n",
    "pd.set_option('display.float_format', '{:,.8f}'.format)"
   ]
  },
  {
   "cell_type": "code",
   "execution_count": 2,
   "metadata": {},
   "outputs": [
    {
     "name": "stdout",
     "output_type": "stream",
     "text": [
      "Num of target predictors: 27\n"
     ]
    }
   ],
   "source": [
    "# Define target predictors\n",
    "target_predictors = ['AF', 'AGE_YRS', 'Allergic', 'Anemia', 'Asthma', 'CVD', 'Cancer', 'Dementia',\n",
    "    'Hyperlipidemia', 'Kidney', 'Migraine', 'Thyroid', 'allergies',\n",
    "    'anxiety', 'arthritis', 'copd', 'curr_ill', 'depression', 'diabetes',\n",
    "    'disable', 'hypertension', 'obesity', 'othermeds', 'sex', 'MODERNA', 'PFIZER', 'JANSSEN']\n",
    "print('Num of target predictors:', len(target_predictors))\n",
    "target_prediction = 'NUMDAYS'\n",
    "predictor_top_k = 8"
   ]
  },
  {
   "cell_type": "code",
   "execution_count": 3,
   "metadata": {},
   "outputs": [
    {
     "name": "stdout",
     "output_type": "stream",
     "text": [
      "Column keys in vanilla data: ['VAERS_ID' 'RECVDATE' 'STATE' 'AGE_YRS' 'CAGE_YR' 'CAGE_MO' 'RPT_DATE'\n",
      " 'SYMPTOM_TEXT' 'DIED' 'DATEDIED' 'L_THREAT' 'ER_VISIT' 'HOSPITAL'\n",
      " 'HOSPDAYS' 'X_STAY' 'RECOVD' 'NUMDAYS' 'LAB_DATA' 'V_ADMINBY' 'V_FUNDBY'\n",
      " 'HISTORY' 'PRIOR_VAX' 'SPLTTYPE' 'FORM_VERS' 'TODAYS_DATE' 'BIRTH_DEFECT'\n",
      " 'OFC_VISIT' 'ER_ED_VISIT' 'VAX_TYPE' 'VAX_LOT' 'VAX_DOSE_SERIES'\n",
      " 'VAX_ROUTE' 'VAX_SITE' 'VAX_NAME' 'SYMPTOM1' 'SYMPTOMVERSION1' 'SYMPTOM2'\n",
      " 'SYMPTOMVERSION2' 'SYMPTOM3' 'SYMPTOMVERSION3' 'SYMPTOM4'\n",
      " 'SYMPTOMVERSION4' 'SYMPTOM5' 'SYMPTOMVERSION5' 'date_vax' 'date' 'dur'\n",
      " 'Allergic' 'diabetes' 'hypertension' 'arthritis' 'Asthma' 'Migraine'\n",
      " 'copd' 'anxiety' 'obesity' 'depression' 'Thyroid' 'Anemia' 'Dementia'\n",
      " 'Cancer' 'Kidney' 'Hyperlipidemia' 'CVD' 'AF' 'othermeds' 'curr_ill'\n",
      " 'sex' 'allergies' 'disable' 'manu']\n",
      "Shape of processed source data: (242719, 28)\n"
     ]
    }
   ],
   "source": [
    "# Preprocess data\n",
    "source_data = pd.read_csv('data21_2.csv', low_memory=False)\n",
    "print('Column keys in vanilla data:', source_data.keys().values)\n",
    "\n",
    "# Drop duplicate records of same VAERS_ID\n",
    "source_data.drop_duplicates(subset='VAERS_ID', keep='first', inplace=True)\n",
    "\n",
    "# Convert VAX_MANU to boolean properties\n",
    "source_data['MODERNA'] = (source_data['manu'] == 0).astype('int')\n",
    "source_data['PFIZER'] = (source_data['manu'] == 2).astype('int')\n",
    "source_data['JANSSEN'] = (source_data['manu'] == 3).astype('int')\n",
    "\n",
    "# Keep needed columns\n",
    "source_data = source_data[target_predictors + [target_prediction]]\n",
    "source_data.dropna(inplace=True)\n",
    "source_data.reset_index(drop=True, inplace=True)\n",
    "\n",
    "# Declare NUMDAYS as int\n",
    "source_data['NUMDAYS'] = source_data['NUMDAYS'].astype('int')\n",
    "\n",
    "print('Shape of processed source data:', source_data.shape)"
   ]
  },
  {
   "cell_type": "code",
   "execution_count": 4,
   "metadata": {},
   "outputs": [
    {
     "name": "stdout",
     "output_type": "stream",
     "text": [
      "[2, 98, 2, 2, 2, 2, 2, 2, 2, 2, 2, 2, 2, 2, 2, 2, 2, 2, 2, 2, 2, 2, 2, 2, 2, 2, 2]\n"
     ]
    }
   ],
   "source": [
    "# Show distinct counts of each column (make sure that not too many columns have many distinct values)\n",
    "print([source_data[predictor].nunique() for predictor in target_predictors])"
   ]
  },
  {
   "cell_type": "code",
   "execution_count": 5,
   "metadata": {},
   "outputs": [],
   "source": [
    "# Scale the source data (for feature importance analysis)\n",
    "scaler = StandardScaler()\n",
    "source_data_scaled = scaler.fit_transform(source_data[target_predictors], source_data[target_prediction])\n",
    "source_data_scaled = pd.DataFrame(source_data_scaled, columns=target_predictors)\n",
    "source_data.update(source_data_scaled)"
   ]
  },
  {
   "cell_type": "code",
   "execution_count": 6,
   "metadata": {},
   "outputs": [
    {
     "name": "stdout",
     "output_type": "stream",
     "text": [
      "Shape of training set: (194176, 28)\n",
      "Shape of test set: (48544, 28)\n"
     ]
    }
   ],
   "source": [
    "# Shuffle data and slice it into training set and test set\n",
    "source_data = source_data.sample(frac=1, random_state=1).reset_index(drop=True)\n",
    "\n",
    "len_train = int(source_data.shape[0] * 0.8)\n",
    "len_test = source_data.shape[0] - len_train\n",
    "\n",
    "training_data = source_data.loc[:len_train]\n",
    "test_data = source_data.loc[len_train:]\n",
    "print('Shape of training set:', training_data.shape)\n",
    "print('Shape of test set:', test_data.shape)"
   ]
  },
  {
   "cell_type": "code",
   "execution_count": 7,
   "metadata": {},
   "outputs": [
    {
     "name": "stdout",
     "output_type": "stream",
     "text": [
      "Shape of data with shorter onset: (189098, 28)\n",
      "Shape of data with longer onset: (53621, 28)\n"
     ]
    }
   ],
   "source": [
    "# And also slice data into two sets with larger/smaller 'NUMDAYS'\n",
    "shorter_data = source_data[source_data['NUMDAYS'] <= 3].reset_index(drop=True)\n",
    "longer_data = source_data[source_data['NUMDAYS'] > 3].reset_index(drop=True)\n",
    "print('Shape of data with shorter onset:', shorter_data.shape)\n",
    "print('Shape of data with longer onset:', longer_data.shape)"
   ]
  },
  {
   "cell_type": "markdown",
   "metadata": {},
   "source": [
    "# Util functions"
   ]
  },
  {
   "cell_type": "code",
   "execution_count": 8,
   "metadata": {},
   "outputs": [],
   "source": [
    "def get_rmse(real_val, pred_val):\n",
    "\treturn mean_squared_error(real_val, pred_val, squared=False)\n",
    "\n",
    "def get_r_square(real_val, pred_val):\n",
    "\treturn r2_score(real_val, pred_val)\n",
    "\n",
    "def print_top_k_predictors(importances, label, sort_key=lambda x:x):\n",
    "\tseries = pd.Series(importances, index=target_predictors).sort_values(key=sort_key, ascending=False)\n",
    "\tprint(f'Top {predictor_top_k} predictors of {label}:')\n",
    "\tprint(series[:predictor_top_k].to_string())"
   ]
  },
  {
   "cell_type": "markdown",
   "metadata": {},
   "source": [
    "# Ordinary Least Squares (OLS)"
   ]
  },
  {
   "cell_type": "code",
   "execution_count": 9,
   "metadata": {},
   "outputs": [
    {
     "name": "stdout",
     "output_type": "stream",
     "text": [
      "Train RMSE: 5.374767375608965\n",
      "Train R2: 0.028674292271064106\n",
      "Test RMSE: 5.346096935430181\n",
      "Test R2: 0.02942295053668742\n"
     ]
    }
   ],
   "source": [
    "regressor_ols = LinearRegression(n_jobs=-1)\n",
    "regressor_ols.fit(training_data[target_predictors], training_data[target_prediction])\n",
    "\n",
    "train_pred = regressor_ols.predict(training_data[target_predictors])\n",
    "print('Train RMSE:', get_rmse(training_data[target_prediction], train_pred))\n",
    "print('Train R2:', get_r_square(training_data[target_prediction], train_pred))\n",
    "test_pred = regressor_ols.predict(test_data[target_predictors])\n",
    "print('Test RMSE:', get_rmse(test_data[target_prediction], test_pred))\n",
    "print('Test R2:', get_r_square(test_data[target_prediction], test_pred))"
   ]
  },
  {
   "cell_type": "code",
   "execution_count": 10,
   "metadata": {},
   "outputs": [
    {
     "name": "stdout",
     "output_type": "stream",
     "text": [
      "Top 8 predictors of OLS (shorter onset):\n",
      "MODERNA        62,935,542,669.93128967\n",
      "PFIZER         61,365,793,109.90074921\n",
      "JANSSEN        34,510,858,562.29518890\n",
      "othermeds                   0.09241762\n",
      "AGE_YRS                     0.07885676\n",
      "disable                     0.03141580\n",
      "sex                        -0.02588068\n",
      "hypertension                0.02186027\n",
      "\n",
      "Top 8 predictors of OLS (longer onset):\n",
      "MODERNA     1,773,246,461,941.48217773\n",
      "PFIZER      1,729,017,831,579.20263672\n",
      "JANSSEN       972,364,029,101.61328125\n",
      "AGE_YRS                     0.62938461\n",
      "sex                        -0.48857786\n",
      "allergies                  -0.36345437\n",
      "othermeds                  -0.32913157\n",
      "disable                     0.19659613\n"
     ]
    }
   ],
   "source": [
    "regressor_ols.fit(shorter_data[target_predictors], shorter_data[target_prediction])\n",
    "print_top_k_predictors(regressor_ols.coef_, 'OLS (shorter onset)', sort_key=abs)\n",
    "\n",
    "print()\n",
    "\n",
    "regressor_ols.fit(longer_data[target_predictors], longer_data[target_prediction])\n",
    "print_top_k_predictors(regressor_ols.coef_, 'OLS (longer onset)', sort_key=abs)"
   ]
  },
  {
   "cell_type": "markdown",
   "metadata": {},
   "source": [
    "# Regularized regression"
   ]
  },
  {
   "cell_type": "markdown",
   "metadata": {},
   "source": [
    "## Lasso"
   ]
  },
  {
   "cell_type": "code",
   "execution_count": 11,
   "metadata": {},
   "outputs": [
    {
     "name": "stdout",
     "output_type": "stream",
     "text": [
      "Train RMSE: 5.374896556604944\n",
      "Train R2: 0.028627600639045236\n",
      "Test RMSE: 5.34618304628657\n",
      "Test R2: 0.029391683653565148\n"
     ]
    }
   ],
   "source": [
    "regressor_lasso = LassoCV(cv=10, n_jobs=-1, random_state=1)\n",
    "regressor_lasso.fit(training_data[target_predictors], training_data[target_prediction])\n",
    "\n",
    "train_pred = regressor_lasso.predict(training_data[target_predictors])\n",
    "print('Train RMSE:', get_rmse(training_data[target_prediction], train_pred))\n",
    "print('Train R2:', get_r_square(training_data[target_prediction], train_pred))\n",
    "test_pred = regressor_lasso.predict(test_data[target_predictors])\n",
    "print('Test RMSE:', get_rmse(test_data[target_prediction], test_pred))\n",
    "print('Test R2:', get_r_square(test_data[target_prediction], test_pred))"
   ]
  },
  {
   "cell_type": "code",
   "execution_count": 12,
   "metadata": {},
   "outputs": [
    {
     "name": "stdout",
     "output_type": "stream",
     "text": [
      "Top 8 predictors of Lasso (shorter onset):\n",
      "othermeds       0.09227068\n",
      "AGE_YRS         0.07884821\n",
      "disable         0.03131353\n",
      "JANSSEN        -0.02964864\n",
      "sex            -0.02574787\n",
      "hypertension    0.02140770\n",
      "allergies      -0.01858419\n",
      "Asthma         -0.01295869\n",
      "\n",
      "Top 8 predictors of Lasso (longer onset):\n",
      "AGE_YRS      0.62525810\n",
      "sex         -0.48869601\n",
      "MODERNA     -0.46724611\n",
      "allergies   -0.36571278\n",
      "othermeds   -0.32236912\n",
      "PFIZER       0.24352015\n",
      "disable      0.19524008\n",
      "diabetes     0.14031417\n"
     ]
    }
   ],
   "source": [
    "regressor_lasso.fit(shorter_data[target_predictors], shorter_data[target_prediction])\n",
    "print_top_k_predictors(regressor_lasso.coef_, 'Lasso (shorter onset)', sort_key=abs)\n",
    "\n",
    "print()\n",
    "\n",
    "regressor_lasso.fit(longer_data[target_predictors], longer_data[target_prediction])\n",
    "print_top_k_predictors(regressor_lasso.coef_, 'Lasso (longer onset)', sort_key=abs)"
   ]
  },
  {
   "cell_type": "markdown",
   "metadata": {},
   "source": [
    "## Ridge"
   ]
  },
  {
   "cell_type": "code",
   "execution_count": 13,
   "metadata": {},
   "outputs": [
    {
     "name": "stdout",
     "output_type": "stream",
     "text": [
      "Train RMSE: 5.374766771776103\n",
      "Train R2: 0.028674510519895446\n",
      "Test RMSE: 5.346064364584228\n",
      "Test R2: 0.02943477689137075\n"
     ]
    }
   ],
   "source": [
    "regressor_ridge = RidgeCV(cv=10)\n",
    "regressor_ridge.fit(training_data[target_predictors], training_data[target_prediction])\n",
    "\n",
    "train_pred = regressor_ridge.predict(training_data[target_predictors])\n",
    "print('Train RMSE:', get_rmse(training_data[target_prediction], train_pred))\n",
    "print('Train R2:', get_r_square(training_data[target_prediction], train_pred))\n",
    "test_pred = regressor_ridge.predict(test_data[target_predictors])\n",
    "print('Test RMSE:', get_rmse(test_data[target_prediction], test_pred))\n",
    "print('Test R2:', get_r_square(test_data[target_prediction], test_pred))"
   ]
  },
  {
   "cell_type": "code",
   "execution_count": 14,
   "metadata": {},
   "outputs": [
    {
     "name": "stdout",
     "output_type": "stream",
     "text": [
      "Top 8 predictors of Ridge (shorter onset):\n",
      "othermeds       0.09247500\n",
      "AGE_YRS         0.07883890\n",
      "disable         0.03143554\n",
      "JANSSEN        -0.02786043\n",
      "sex            -0.02583260\n",
      "hypertension    0.02180147\n",
      "allergies      -0.01899588\n",
      "Asthma         -0.01304223\n",
      "\n",
      "Top 8 predictors of Ridge (longer onset):\n",
      "AGE_YRS      0.62936106\n",
      "sex         -0.49076649\n",
      "allergies   -0.37619793\n",
      "MODERNA     -0.36669283\n",
      "PFIZER       0.34492824\n",
      "othermeds   -0.33015192\n",
      "disable      0.19701201\n",
      "diabetes     0.15391272\n"
     ]
    }
   ],
   "source": [
    "regressor_ridge.fit(shorter_data[target_predictors], shorter_data[target_prediction])\n",
    "print_top_k_predictors(regressor_ridge.coef_, 'Ridge (shorter onset)', sort_key=abs)\n",
    "\n",
    "print()\n",
    "\n",
    "regressor_ridge.fit(longer_data[target_predictors], longer_data[target_prediction])\n",
    "print_top_k_predictors(regressor_ridge.coef_, 'Ridge (longer onset)', sort_key=abs)"
   ]
  },
  {
   "cell_type": "markdown",
   "metadata": {},
   "source": [
    "## ElasticNet\n",
    "\n",
    "*L1 ratio = 0.5*"
   ]
  },
  {
   "cell_type": "code",
   "execution_count": 15,
   "metadata": {},
   "outputs": [
    {
     "name": "stdout",
     "output_type": "stream",
     "text": [
      "Train RMSE: 5.374886596702481\n",
      "Train R2: 0.02863120062103086\n",
      "Test RMSE: 5.346190226805657\n",
      "Test R2: 0.029389076381737156\n"
     ]
    }
   ],
   "source": [
    "regressor_elastic = ElasticNetCV(l1_ratio=0.5, cv=10, n_jobs=-1, random_state=1)\n",
    "regressor_elastic.fit(training_data[target_predictors], training_data[target_prediction])\n",
    "\n",
    "train_pred = regressor_elastic.predict(training_data[target_predictors])\n",
    "print('Train RMSE:', get_rmse(training_data[target_prediction], train_pred))\n",
    "print('Train R2:', get_r_square(training_data[target_prediction], train_pred))\n",
    "test_pred = regressor_elastic.predict(test_data[target_predictors])\n",
    "print('Test RMSE:', get_rmse(test_data[target_prediction], test_pred))\n",
    "print('Test R2:', get_r_square(test_data[target_prediction], test_pred))"
   ]
  },
  {
   "cell_type": "code",
   "execution_count": 16,
   "metadata": {},
   "outputs": [
    {
     "name": "stdout",
     "output_type": "stream",
     "text": [
      "Top 8 predictors of ElasticNet (shorter onset):\n",
      "othermeds       0.09225096\n",
      "AGE_YRS         0.07884092\n",
      "disable         0.03131000\n",
      "JANSSEN        -0.02964651\n",
      "sex            -0.02574548\n",
      "hypertension    0.02140351\n",
      "allergies      -0.01857147\n",
      "Asthma         -0.01295720\n",
      "\n",
      "Top 8 predictors of ElasticNet (longer onset):\n",
      "AGE_YRS      0.62215565\n",
      "sex         -0.48708481\n",
      "MODERNA     -0.46171043\n",
      "allergies   -0.36314240\n",
      "othermeds   -0.32084079\n",
      "PFIZER       0.24777225\n",
      "disable      0.19506148\n",
      "diabetes     0.13839355\n"
     ]
    }
   ],
   "source": [
    "regressor_elastic.fit(shorter_data[target_predictors], shorter_data[target_prediction])\n",
    "print_top_k_predictors(regressor_elastic.coef_, 'ElasticNet (shorter onset)', sort_key=abs)\n",
    "\n",
    "print()\n",
    "\n",
    "regressor_elastic.fit(longer_data[target_predictors], longer_data[target_prediction])\n",
    "print_top_k_predictors(regressor_elastic.coef_, 'ElasticNet (longer onset)', sort_key=abs)"
   ]
  },
  {
   "cell_type": "markdown",
   "metadata": {},
   "source": [
    "# Random Forest"
   ]
  },
  {
   "cell_type": "code",
   "execution_count": 17,
   "metadata": {},
   "outputs": [
    {
     "data": {
      "text/plain": [
       "RandomForestRegressor(n_estimators=500, n_jobs=-1, random_state=1)"
      ]
     },
     "execution_count": 17,
     "metadata": {},
     "output_type": "execute_result"
    }
   ],
   "source": [
    "regressor_rf = RandomForestRegressor(n_estimators=500, n_jobs=-1, random_state=1)\n",
    "regressor_rf.fit(training_data[target_predictors], training_data[target_prediction])"
   ]
  },
  {
   "cell_type": "code",
   "execution_count": 18,
   "metadata": {},
   "outputs": [
    {
     "name": "stdout",
     "output_type": "stream",
     "text": [
      "Train RMSE: 4.856175844865534\n",
      "Train R2: 0.20707091681972922\n",
      "Test RMSE: 5.560120590752197\n",
      "Test R2: -0.049844025769534506\n"
     ]
    }
   ],
   "source": [
    "train_pred = regressor_rf.predict(training_data[target_predictors])\n",
    "print('Train RMSE:', get_rmse(training_data[target_prediction], train_pred))\n",
    "print('Train R2:', get_r_square(training_data[target_prediction], train_pred))\n",
    "test_pred = regressor_rf.predict(test_data[target_predictors])\n",
    "print('Test RMSE:', get_rmse(test_data[target_prediction], test_pred))\n",
    "print('Test R2:', get_r_square(test_data[target_prediction], test_pred))"
   ]
  },
  {
   "cell_type": "code",
   "execution_count": 19,
   "metadata": {},
   "outputs": [
    {
     "name": "stdout",
     "output_type": "stream",
     "text": [
      "Top 8 predictors of RandomForest:\n",
      "AGE_YRS        0.36330046\n",
      "curr_ill       0.05775200\n",
      "allergies      0.03771437\n",
      "Thyroid        0.03756740\n",
      "hypertension   0.03301878\n",
      "arthritis      0.03299307\n",
      "MODERNA        0.03236857\n",
      "othermeds      0.03203971\n"
     ]
    }
   ],
   "source": [
    "# Get numerical feature importances\n",
    "importances = list(regressor_rf.feature_importances_)\n",
    "print_top_k_predictors(importances, 'RandomForest')"
   ]
  },
  {
   "cell_type": "markdown",
   "metadata": {},
   "source": [
    "# Simple Multi-Layer Perceptrons"
   ]
  },
  {
   "cell_type": "code",
   "execution_count": 20,
   "metadata": {},
   "outputs": [
    {
     "data": {
      "text/plain": [
       "MLPRegressor(hidden_layer_sizes=(5, 5), random_state=1)"
      ]
     },
     "execution_count": 20,
     "metadata": {},
     "output_type": "execute_result"
    }
   ],
   "source": [
    "regressor_nn = MLPRegressor(hidden_layer_sizes=(5, 5), activation='relu', random_state=1)\n",
    "regressor_nn.fit(training_data[target_predictors], training_data[target_prediction])"
   ]
  },
  {
   "cell_type": "code",
   "execution_count": 21,
   "metadata": {},
   "outputs": [
    {
     "name": "stdout",
     "output_type": "stream",
     "text": [
      "Train RMSE: 5.350419514187296\n",
      "Train R2: 0.037454630148291645\n",
      "Test RMSE: 5.329122654570525\n",
      "Test R2: 0.0355764839125251\n"
     ]
    }
   ],
   "source": [
    "train_pred = regressor_nn.predict(training_data[target_predictors])\n",
    "print('Train RMSE:', get_rmse(training_data[target_prediction], train_pred))\n",
    "print('Train R2:', get_r_square(training_data[target_prediction], train_pred))\n",
    "test_pred = regressor_nn.predict(test_data[target_predictors])\n",
    "print('Test RMSE:', get_rmse(test_data[target_prediction], test_pred))\n",
    "print('Test R2:', get_r_square(test_data[target_prediction], test_pred))"
   ]
  },
  {
   "cell_type": "code",
   "execution_count": 22,
   "metadata": {},
   "outputs": [
    {
     "name": "stdout",
     "output_type": "stream",
     "text": [
      "Top 8 predictors of MLP:\n",
      "AGE_YRS          4.47443067\n",
      "othermeds        3.18421053\n",
      "sex              2.73929950\n",
      "JANSSEN          2.59034609\n",
      "Kidney           2.35623525\n",
      "disable          2.27350989\n",
      "Migraine         2.11726470\n",
      "Hyperlipidemia   1.97265987\n"
     ]
    }
   ],
   "source": [
    "coefs = regressor_nn.coefs_[0]\n",
    "importances = np.sum(np.abs(coefs), axis=1)\n",
    "print_top_k_predictors(importances, 'MLP')"
   ]
  }
 ],
 "metadata": {
  "interpreter": {
   "hash": "81d84478ebe13cf201ad9f99b59ab6833bcd1963bfdfa8202af55f0c1dc2347b"
  },
  "kernelspec": {
   "display_name": "Python 3.9.7 64-bit ('py39_jupyter': conda)",
   "language": "python",
   "name": "python3"
  },
  "language_info": {
   "codemirror_mode": {
    "name": "ipython",
    "version": 3
   },
   "file_extension": ".py",
   "mimetype": "text/x-python",
   "name": "python",
   "nbconvert_exporter": "python",
   "pygments_lexer": "ipython3",
   "version": "3.9.7"
  },
  "orig_nbformat": 4
 },
 "nbformat": 4,
 "nbformat_minor": 2
}
