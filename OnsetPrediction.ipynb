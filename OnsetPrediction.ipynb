{
 "cells": [
  {
   "cell_type": "code",
   "execution_count": 1,
   "metadata": {},
   "outputs": [],
   "source": [
    "import numpy as np\n",
    "import pandas as pd\n",
    "import statsmodels.formula.api as smf\n",
    "from sklearn.ensemble import RandomForestRegressor\n",
    "from sklearn.neural_network import MLPRegressor\n",
    "from sklearn.metrics import mean_squared_error, r2_score\n",
    "np.random.seed(3)\n",
    "pd.set_option('display.float_format', '{:,.8f}'.format)"
   ]
  },
  {
   "cell_type": "code",
   "execution_count": 2,
   "metadata": {},
   "outputs": [
    {
     "name": "stdout",
     "output_type": "stream",
     "text": [
      "Num of target predictors: 27\n"
     ]
    }
   ],
   "source": [
    "# Define target predictors\n",
    "target_predictors = ['AF', 'AGE_YRS', 'Allergic', 'Anemia', 'Asthma', 'CVD', 'Cancer', 'Dementia',\n",
    "    'Hyperlipidemia', 'Kidney', 'Migraine', 'Thyroid', 'allergies',\n",
    "    'anxiety', 'arthritis', 'copd', 'curr_ill', 'depression', 'diabetes',\n",
    "    'disable', 'hypertension', 'obesity', 'othermeds', 'sex', 'MODERNA', 'PFIZER', 'JANSSEN']\n",
    "print('Num of target predictors:', len(target_predictors))\n",
    "target_prediction = 'NUMDAYS'\n",
    "predictor_top_k = 8\n",
    "\n",
    "smf_formula = target_prediction + ' ~ ' + ' + '.join(target_predictors)"
   ]
  },
  {
   "cell_type": "code",
   "execution_count": 3,
   "metadata": {},
   "outputs": [
    {
     "name": "stdout",
     "output_type": "stream",
     "text": [
      "Column keys in vanilla data: ['VAERS_ID' 'RECVDATE' 'STATE' 'AGE_YRS' 'CAGE_YR' 'CAGE_MO' 'RPT_DATE'\n",
      " 'SYMPTOM_TEXT' 'DIED' 'DATEDIED' 'L_THREAT' 'ER_VISIT' 'HOSPITAL'\n",
      " 'HOSPDAYS' 'X_STAY' 'RECOVD' 'NUMDAYS' 'LAB_DATA' 'V_ADMINBY' 'V_FUNDBY'\n",
      " 'HISTORY' 'PRIOR_VAX' 'SPLTTYPE' 'FORM_VERS' 'TODAYS_DATE' 'BIRTH_DEFECT'\n",
      " 'OFC_VISIT' 'ER_ED_VISIT' 'VAX_TYPE' 'VAX_LOT' 'VAX_DOSE_SERIES'\n",
      " 'VAX_ROUTE' 'VAX_SITE' 'VAX_NAME' 'SYMPTOM1' 'SYMPTOMVERSION1' 'SYMPTOM2'\n",
      " 'SYMPTOMVERSION2' 'SYMPTOM3' 'SYMPTOMVERSION3' 'SYMPTOM4'\n",
      " 'SYMPTOMVERSION4' 'SYMPTOM5' 'SYMPTOMVERSION5' 'date_vax' 'date' 'dur'\n",
      " 'Allergic' 'diabetes' 'hypertension' 'arthritis' 'Asthma' 'Migraine'\n",
      " 'copd' 'anxiety' 'obesity' 'depression' 'Thyroid' 'Anemia' 'Dementia'\n",
      " 'Cancer' 'Kidney' 'Hyperlipidemia' 'CVD' 'AF' 'othermeds' 'curr_ill'\n",
      " 'sex' 'allergies' 'disable' 'manu']\n",
      "Shape of processed source data: (242719, 28)\n"
     ]
    }
   ],
   "source": [
    "# Preprocess data\n",
    "source_data = pd.read_csv('data21_2.csv', low_memory=False)\n",
    "print('Column keys in vanilla data:', source_data.keys().values)\n",
    "\n",
    "# Drop duplicate records of same VAERS_ID\n",
    "source_data.drop_duplicates(subset='VAERS_ID', keep='first', inplace=True)\n",
    "\n",
    "# Convert VAX_MANU to boolean properties\n",
    "source_data['MODERNA'] = (source_data['manu'] == 0).astype('int')\n",
    "source_data['PFIZER'] = (source_data['manu'] == 2).astype('int')\n",
    "source_data['JANSSEN'] = (source_data['manu'] == 3).astype('int')\n",
    "\n",
    "# Keep needed columns\n",
    "source_data = source_data[target_predictors + [target_prediction]]\n",
    "source_data.dropna(inplace=True)\n",
    "source_data.reset_index(drop=True, inplace=True)\n",
    "\n",
    "# Declare NUMDAYS as int\n",
    "source_data['NUMDAYS'] = source_data['NUMDAYS'].astype('int')\n",
    "\n",
    "print('Shape of processed source data:', source_data.shape)"
   ]
  },
  {
   "cell_type": "code",
   "execution_count": 4,
   "metadata": {},
   "outputs": [
    {
     "name": "stdout",
     "output_type": "stream",
     "text": [
      "[2, 98, 2, 2, 2, 2, 2, 2, 2, 2, 2, 2, 2, 2, 2, 2, 2, 2, 2, 2, 2, 2, 2, 2, 2, 2, 2]\n"
     ]
    }
   ],
   "source": [
    "# Show distinct counts of each column (make sure that not too many columns have many distinct values)\n",
    "print([source_data[predictor].nunique() for predictor in target_predictors])"
   ]
  },
  {
   "cell_type": "code",
   "execution_count": 5,
   "metadata": {},
   "outputs": [],
   "source": [
    "# Scale the source data (for feature importance analysis)\n",
    "# scaler = StandardScaler()\n",
    "# source_data_scaled = scaler.fit_transform(source_data[target_predictors], source_data[target_prediction])\n",
    "# source_data_scaled = pd.DataFrame(source_data_scaled, columns=target_predictors)\n",
    "# source_data.update(source_data_scaled)\n",
    "\n",
    "# Normalize age with min-max normalization\n",
    "source_data['AGE_YRS'] = (source_data['AGE_YRS'] - source_data['AGE_YRS'].min()) / (source_data['AGE_YRS'].max() - source_data['AGE_YRS'].min())"
   ]
  },
  {
   "cell_type": "code",
   "execution_count": 6,
   "metadata": {},
   "outputs": [
    {
     "name": "stdout",
     "output_type": "stream",
     "text": [
      "Shape of training set: (194176, 28)\n",
      "Shape of test set: (48544, 28)\n"
     ]
    }
   ],
   "source": [
    "# Shuffle data and slice it into training set and test set\n",
    "source_data = source_data.sample(frac=1, random_state=1).reset_index(drop=True)\n",
    "\n",
    "len_train = int(source_data.shape[0] * 0.8)\n",
    "len_test = source_data.shape[0] - len_train\n",
    "\n",
    "training_data = source_data.loc[:len_train]\n",
    "test_data = source_data.loc[len_train:]\n",
    "print('Shape of training set:', training_data.shape)\n",
    "print('Shape of test set:', test_data.shape)"
   ]
  },
  {
   "cell_type": "code",
   "execution_count": 7,
   "metadata": {},
   "outputs": [
    {
     "name": "stdout",
     "output_type": "stream",
     "text": [
      "Shape of data with shorter onset: (189098, 28)\n",
      "Shape of data with longer onset: (53621, 28)\n"
     ]
    }
   ],
   "source": [
    "# And also slice data into two sets with larger/smaller 'NUMDAYS'\n",
    "shorter_data = source_data[source_data['NUMDAYS'] <= 3].reset_index(drop=True)\n",
    "longer_data = source_data[source_data['NUMDAYS'] > 3].reset_index(drop=True)\n",
    "print('Shape of data with shorter onset:', shorter_data.shape)\n",
    "print('Shape of data with longer onset:', longer_data.shape)"
   ]
  },
  {
   "cell_type": "markdown",
   "metadata": {},
   "source": [
    "# Util functions"
   ]
  },
  {
   "cell_type": "code",
   "execution_count": 8,
   "metadata": {},
   "outputs": [],
   "source": [
    "def get_rmse(real_val, pred_val):\n",
    "\treturn mean_squared_error(real_val, pred_val, squared=False)\n",
    "\n",
    "def get_r_square(real_val, pred_val):\n",
    "\treturn r2_score(real_val, pred_val)\n",
    "\n",
    "def print_top_k_predictors(importances, label, ascending, sort_key=lambda x:x):\n",
    "\tseries = importances if isinstance(importances, pd.Series) else pd.Series(importances, index=target_predictors)\n",
    "\tseries.sort_values(key=sort_key, ascending=ascending, inplace=True)\n",
    "\tprint(f'Top {predictor_top_k} predictors of {label}:')\n",
    "\tprint(series[:predictor_top_k].to_string())"
   ]
  },
  {
   "cell_type": "markdown",
   "metadata": {},
   "source": [
    "# Ordinary Least Squares (OLS)"
   ]
  },
  {
   "cell_type": "code",
   "execution_count": 9,
   "metadata": {},
   "outputs": [],
   "source": [
    "model = smf.ols(smf_formula, data=training_data)\n",
    "model_short = smf.ols(smf_formula, data=shorter_data)\n",
    "model_long = smf.ols(smf_formula, data=longer_data)\n",
    "ols = model.fit()\n",
    "ols_short = model_short.fit()\n",
    "ols_long = model_long.fit()"
   ]
  },
  {
   "cell_type": "code",
   "execution_count": 10,
   "metadata": {},
   "outputs": [
    {
     "name": "stdout",
     "output_type": "stream",
     "text": [
      "Train RMSE    5.37476719\n",
      "Test  RMSE    5.34606323\n",
      "\n",
      "Top 8 predictors of OLS (shorter):\n",
      "AGE_YRS        0.00000000\n",
      "othermeds      0.00000000\n",
      "disable        0.00000000\n",
      "sex            0.00000000\n",
      "hypertension   0.00000000\n",
      "Asthma         0.00000000\n",
      "allergies      0.00000000\n",
      "depression     0.00001737\n",
      "\n",
      "Top 8 predictors of OLS (longer):\n",
      "AGE_YRS        0.00000000\n",
      "sex            0.00000000\n",
      "disable        0.00000000\n",
      "allergies      0.00000000\n",
      "othermeds      0.00000000\n",
      "hypertension   0.00055170\n",
      "diabetes       0.00055270\n",
      "anxiety        0.01023978\n"
     ]
    }
   ],
   "source": [
    "train_pred = ols.fittedvalues\n",
    "test_pred = ols.predict(test_data)\n",
    "print(f'Train RMSE   {get_rmse(training_data[target_prediction], train_pred):11.8f}')\n",
    "print(f'Test  RMSE   {get_rmse(test_data[target_prediction], test_pred):11.8f}')\n",
    "print()\n",
    "print_top_k_predictors(ols_short.pvalues.drop(labels='Intercept'), 'OLS (shorter)', True)\n",
    "print()\n",
    "print_top_k_predictors(ols_long.pvalues.drop(labels='Intercept'), 'OLS (longer)', True)"
   ]
  },
  {
   "cell_type": "markdown",
   "metadata": {},
   "source": [
    "# Regularized regression"
   ]
  },
  {
   "cell_type": "markdown",
   "metadata": {},
   "source": [
    "## Lasso"
   ]
  },
  {
   "cell_type": "code",
   "execution_count": 11,
   "metadata": {},
   "outputs": [],
   "source": [
    "lasso_params = { 'L1_wt': 1 }\n",
    "lasso = model.fit_regularized(**lasso_params)\n",
    "lasso_short = model_short.fit_regularized(refit=True, **lasso_params)\n",
    "lasso_long = model_long.fit_regularized(refit=True, **lasso_params)"
   ]
  },
  {
   "cell_type": "code",
   "execution_count": 12,
   "metadata": {},
   "outputs": [
    {
     "name": "stdout",
     "output_type": "stream",
     "text": [
      "Train RMSE    5.37476680\n",
      "Test  RMSE    5.34605841\n",
      "\n",
      "Top 8 predictors of Lasso (shorter):\n",
      "MODERNA        2,544,385,818.77748919\n",
      "PFIZER         2,511,324,760.85695314\n",
      "JANSSEN        1,455,360,771.40183496\n",
      "othermeds                  0.09442050\n",
      "AGE_YRS                    0.07850021\n",
      "disable                    0.02692668\n",
      "sex                       -0.02611567\n",
      "hypertension               0.02130533\n",
      "\n",
      "Top 8 predictors of Lasso (longer):\n",
      "MODERNA     2,164,305,882,953.66723633\n",
      "PFIZER      2,049,373,140,037.42504883\n",
      "JANSSEN     1,035,907,112,054.50830078\n",
      "AGE_YRS                     0.62097464\n",
      "sex                        -0.47056371\n",
      "allergies                  -0.35361709\n",
      "othermeds                  -0.30170774\n",
      "disable                     0.26998091\n"
     ]
    }
   ],
   "source": [
    "train_pred = lasso.fittedvalues\n",
    "test_pred = lasso.predict(test_data)\n",
    "print(f'Train RMSE   {get_rmse(training_data[target_prediction], train_pred):11.8f}')\n",
    "print(f'Test  RMSE   {get_rmse(test_data[target_prediction], test_pred):11.8f}')\n",
    "print()\n",
    "print_top_k_predictors(np.multiply(lasso_short.params[1:], shorter_data[target_predictors].std(axis=0, ddof=0)), 'Lasso (shorter)', False, sort_key=abs)\n",
    "print()\n",
    "print_top_k_predictors(np.multiply(lasso_long.params[1:], longer_data[target_predictors].std(axis=0, ddof=0)), 'Lasso (longer)', False, sort_key=abs)"
   ]
  },
  {
   "cell_type": "markdown",
   "metadata": {},
   "source": [
    "## Ridge"
   ]
  },
  {
   "cell_type": "code",
   "execution_count": 13,
   "metadata": {},
   "outputs": [],
   "source": [
    "ridge_params = { 'L1_wt': 0 }\n",
    "ridge = model.fit_regularized(**ridge_params)\n",
    "ridge_short = model_short.fit_regularized(refit=True, **ridge_params)\n",
    "ridge_long = model_long.fit_regularized(refit=True, **ridge_params)"
   ]
  },
  {
   "cell_type": "code",
   "execution_count": 14,
   "metadata": {},
   "outputs": [
    {
     "name": "stdout",
     "output_type": "stream",
     "text": [
      "Train RMSE    5.37476777\n",
      "Test  RMSE    5.34606815\n",
      "\n",
      "Top 8 predictors of Ridge (shorter):\n",
      "MODERNA        2,544,385,818.77841282\n",
      "PFIZER         2,511,324,760.85690069\n",
      "JANSSEN        1,455,360,771.40250015\n",
      "othermeds                  0.09442050\n",
      "AGE_YRS                    0.07850021\n",
      "disable                    0.02692668\n",
      "sex                       -0.02611567\n",
      "hypertension               0.02130533\n",
      "\n",
      "Top 8 predictors of Ridge (longer):\n",
      "MODERNA     2,164,305,882,953.63818359\n",
      "PFIZER      2,049,373,140,037.39379883\n",
      "JANSSEN     1,035,907,112,054.52087402\n",
      "AGE_YRS                     0.62097464\n",
      "sex                        -0.47056371\n",
      "allergies                  -0.35361709\n",
      "othermeds                  -0.30170774\n",
      "disable                     0.26998091\n"
     ]
    }
   ],
   "source": [
    "train_pred = ridge.fittedvalues\n",
    "test_pred = ridge.predict(test_data)\n",
    "print(f'Train RMSE   {get_rmse(training_data[target_prediction], train_pred):11.8f}')\n",
    "print(f'Test  RMSE   {get_rmse(test_data[target_prediction], test_pred):11.8f}')\n",
    "print()\n",
    "print_top_k_predictors(np.multiply(ridge_short.params[1:], shorter_data[target_predictors].std(axis=0, ddof=0)), 'Ridge (shorter)', False, sort_key=abs)\n",
    "print()\n",
    "print_top_k_predictors(np.multiply(ridge_long.params[1:], longer_data[target_predictors].std(axis=0, ddof=0)), 'Ridge (longer)', False, sort_key=abs)"
   ]
  },
  {
   "cell_type": "markdown",
   "metadata": {},
   "source": [
    "## ElasticNet\n",
    "\n",
    "*L1 ratio = 0.5*"
   ]
  },
  {
   "cell_type": "code",
   "execution_count": 15,
   "metadata": {},
   "outputs": [],
   "source": [
    "elastic_params = { 'L1_wt': 0.5 }\n",
    "elastic = model.fit_regularized(**elastic_params)\n",
    "elastic_short = model_short.fit_regularized(refit=True, **elastic_params)\n",
    "elastic_long = model_long.fit_regularized(refit=True, **elastic_params)"
   ]
  },
  {
   "cell_type": "code",
   "execution_count": 16,
   "metadata": {},
   "outputs": [
    {
     "name": "stdout",
     "output_type": "stream",
     "text": [
      "Train RMSE    5.37476680\n",
      "Test  RMSE    5.34605841\n",
      "\n",
      "Top 8 predictors of ElasticNet (shorter):\n",
      "MODERNA        2,544,385,818.77748919\n",
      "PFIZER         2,511,324,760.85695314\n",
      "JANSSEN        1,455,360,771.40183496\n",
      "othermeds                  0.09442050\n",
      "AGE_YRS                    0.07850021\n",
      "disable                    0.02692668\n",
      "sex                       -0.02611567\n",
      "hypertension               0.02130533\n",
      "\n",
      "Top 8 predictors of ElasticNet (longer):\n",
      "MODERNA     2,164,305,882,953.66723633\n",
      "PFIZER      2,049,373,140,037.42504883\n",
      "JANSSEN     1,035,907,112,054.50830078\n",
      "AGE_YRS                     0.62097464\n",
      "sex                        -0.47056371\n",
      "allergies                  -0.35361709\n",
      "othermeds                  -0.30170774\n",
      "disable                     0.26998091\n"
     ]
    }
   ],
   "source": [
    "train_pred = elastic.fittedvalues\n",
    "test_pred = elastic.predict(test_data)\n",
    "print(f'Train RMSE   {get_rmse(training_data[target_prediction], train_pred):11.8f}')\n",
    "print(f'Test  RMSE   {get_rmse(test_data[target_prediction], test_pred):11.8f}')\n",
    "print()\n",
    "print_top_k_predictors(np.multiply(elastic_short.params[1:], shorter_data[target_predictors].std(axis=0, ddof=0)), 'ElasticNet (shorter)', False, sort_key=abs)\n",
    "print()\n",
    "print_top_k_predictors(np.multiply(elastic_long.params[1:], longer_data[target_predictors].std(axis=0, ddof=0)), 'ElasticNet (longer)', False, sort_key=abs)"
   ]
  },
  {
   "cell_type": "markdown",
   "metadata": {},
   "source": [
    "# Random Forest"
   ]
  },
  {
   "cell_type": "code",
   "execution_count": 17,
   "metadata": {},
   "outputs": [
    {
     "data": {
      "text/plain": [
       "RandomForestRegressor(n_estimators=500, n_jobs=-1, random_state=1)"
      ]
     },
     "execution_count": 17,
     "metadata": {},
     "output_type": "execute_result"
    }
   ],
   "source": [
    "regressor_rf = RandomForestRegressor(n_estimators=500, n_jobs=-1, random_state=1)\n",
    "regressor_rf.fit(training_data[target_predictors], training_data[target_prediction])"
   ]
  },
  {
   "cell_type": "code",
   "execution_count": 18,
   "metadata": {},
   "outputs": [
    {
     "name": "stdout",
     "output_type": "stream",
     "text": [
      "Train RMSE    4.85614301\n",
      "Test  RMSE    5.55824576\n"
     ]
    }
   ],
   "source": [
    "train_pred = regressor_rf.predict(training_data[target_predictors])\n",
    "test_pred = regressor_rf.predict(test_data[target_predictors])\n",
    "print(f'Train RMSE   {get_rmse(training_data[target_prediction], train_pred):11.8f}')\n",
    "print(f'Test  RMSE   {get_rmse(test_data[target_prediction], test_pred):11.8f}')"
   ]
  },
  {
   "cell_type": "code",
   "execution_count": 19,
   "metadata": {},
   "outputs": [
    {
     "name": "stdout",
     "output_type": "stream",
     "text": [
      "Top 8 predictors of RandomForest:\n",
      "AGE_YRS        0.36330046\n",
      "curr_ill       0.05775200\n",
      "allergies      0.03771437\n",
      "Thyroid        0.03756740\n",
      "hypertension   0.03301878\n",
      "arthritis      0.03299307\n",
      "MODERNA        0.03236857\n",
      "othermeds      0.03203971\n"
     ]
    }
   ],
   "source": [
    "# Get numerical feature importances\n",
    "importances = list(regressor_rf.feature_importances_)\n",
    "print_top_k_predictors(importances, 'RandomForest', False)"
   ]
  },
  {
   "cell_type": "markdown",
   "metadata": {},
   "source": [
    "# Simple Multi-Layer Perceptrons"
   ]
  },
  {
   "cell_type": "code",
   "execution_count": 20,
   "metadata": {},
   "outputs": [
    {
     "data": {
      "text/plain": [
       "MLPRegressor(hidden_layer_sizes=(5, 5), random_state=1)"
      ]
     },
     "execution_count": 20,
     "metadata": {},
     "output_type": "execute_result"
    }
   ],
   "source": [
    "regressor_nn = MLPRegressor(hidden_layer_sizes=(5, 5), activation='relu', random_state=1)\n",
    "regressor_nn.fit(training_data[target_predictors], training_data[target_prediction])"
   ]
  },
  {
   "cell_type": "code",
   "execution_count": 21,
   "metadata": {},
   "outputs": [
    {
     "name": "stdout",
     "output_type": "stream",
     "text": [
      "Train RMSE    5.35583174\n",
      "Test  RMSE    5.34015807\n"
     ]
    }
   ],
   "source": [
    "train_pred = regressor_nn.predict(training_data[target_predictors])\n",
    "test_pred = regressor_nn.predict(test_data[target_predictors])\n",
    "print(f'Train RMSE   {get_rmse(training_data[target_prediction], train_pred):11.8f}')\n",
    "print(f'Test  RMSE   {get_rmse(test_data[target_prediction], test_pred):11.8f}')"
   ]
  },
  {
   "cell_type": "code",
   "execution_count": 22,
   "metadata": {},
   "outputs": [
    {
     "name": "stdout",
     "output_type": "stream",
     "text": [
      "Top 8 predictors of MLP:\n",
      "Hyperlipidemia   6.05031069\n",
      "Allergic         4.43689607\n",
      "AGE_YRS          4.31737618\n",
      "JANSSEN          3.90474428\n",
      "Dementia         3.69526978\n",
      "Migraine         3.16767773\n",
      "disable          2.91624165\n",
      "Kidney           2.44109858\n"
     ]
    }
   ],
   "source": [
    "coefs = regressor_nn.coefs_[0]\n",
    "importances = np.sum(np.abs(coefs), axis=1)\n",
    "print_top_k_predictors(importances, 'MLP', False)"
   ]
  },
  {
   "cell_type": "markdown",
   "metadata": {},
   "source": [
    "# Miscellaneous"
   ]
  },
  {
   "cell_type": "code",
   "execution_count": 23,
   "metadata": {},
   "outputs": [
    {
     "name": "stdout",
     "output_type": "stream",
     "text": [
      "5.371749212054234\n",
      "5.561183592063984\n",
      "4.677709768981316\n"
     ]
    }
   ],
   "source": [
    "# Check std of NUMDAYS with different kinds of vaccine\n",
    "print(source_data.loc[source_data['PFIZER'] == 1, 'NUMDAYS'].std())\n",
    "print(source_data.loc[source_data['MODERNA'] == 1, 'NUMDAYS'].std())\n",
    "print(source_data.loc[source_data['JANSSEN'] == 1, 'NUMDAYS'].std())"
   ]
  },
  {
   "cell_type": "code",
   "execution_count": 24,
   "metadata": {},
   "outputs": [
    {
     "data": {
      "text/plain": [
       "<AxesSubplot:>"
      ]
     },
     "execution_count": 24,
     "metadata": {},
     "output_type": "execute_result"
    },
    {
     "data": {
      "image/png": "[encoded data removed]",
      "text/plain": [
       "<Figure size 432x288 with 1 Axes>"
      ]
     },
     "metadata": {
      "needs_background": "light"
     },
     "output_type": "display_data"
    }
   ],
   "source": [
    "pd.concat([\n",
    "\tsource_data.query('MODERNA == 1 and NUMDAYS <= 14')['NUMDAYS'].value_counts().sort_index(),\n",
    "\tsource_data.query('PFIZER == 1 and NUMDAYS <= 14')['NUMDAYS'].value_counts().sort_index(),\n",
    "\tsource_data.query('JANSSEN == 1 and NUMDAYS <= 14')['NUMDAYS'].value_counts().sort_index(),\n",
    "], axis=1, keys=['Moderna', 'Pfizer', 'Janssen']).plot.bar()"
   ]
  }
 ],
 "metadata": {
  "interpreter": {
   "hash": "81d84478ebe13cf201ad9f99b59ab6833bcd1963bfdfa8202af55f0c1dc2347b"
  },
  "kernelspec": {
   "display_name": "Python 3.9.7 64-bit ('py39_jupyter': conda)",
   "language": "python",
   "name": "python3"
  },
  "language_info": {
   "codemirror_mode": {
    "name": "ipython",
    "version": 3
   },
   "file_extension": ".py",
   "mimetype": "text/x-python",
   "name": "python",
   "nbconvert_exporter": "python",
   "pygments_lexer": "ipython3",
   "version": "3.9.7"
  },
  "orig_nbformat": 4
 },
 "nbformat": 4,
 "nbformat_minor": 2
}
